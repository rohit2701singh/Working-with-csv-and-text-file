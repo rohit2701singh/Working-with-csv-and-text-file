{
  "nbformat": 4,
  "nbformat_minor": 0,
  "metadata": {
    "colab": {
      "provenance": [],
      "authorship_tag": "ABX9TyNyPFaNcjhm3p8xltmCfpbf",
      "include_colab_link": true
    },
    "kernelspec": {
      "name": "python3",
      "display_name": "Python 3"
    },
    "language_info": {
      "name": "python"
    }
  },
  "cells": [
    {
      "cell_type": "markdown",
      "metadata": {
        "id": "view-in-github",
        "colab_type": "text"
      },
      "source": [
        "<a href=\"https://colab.research.google.com/github/rohit2701singh/Working-with-csv-and-text-file/blob/main/working_with_CSV_module.ipynb\" target=\"_parent\"><img src=\"https://colab.research.google.com/assets/colab-badge.svg\" alt=\"Open In Colab\"/></a>"
      ]
    },
    {
      "cell_type": "code",
      "execution_count": null,
      "metadata": {
        "id": "fTCZ2o61qLFn"
      },
      "outputs": [],
      "source": [
        "\"\"\"\n",
        "file data:\n",
        "\n",
        "batsman,2015,2016,2017\n",
        "AB de Villiers,513,687,216\n",
        "DA Warner,562,848,641\n",
        "MS Dhoni,372,284,290\n",
        "RG Sharma,482,489,333\n",
        "V Kohli,505,973,308\n",
        "\n",
        "\"\"\""
      ]
    },
    {
      "cell_type": "code",
      "source": [
        "import csv"
      ],
      "metadata": {
        "id": "swzcM_6YrwIZ"
      },
      "execution_count": 1,
      "outputs": []
    },
    {
      "cell_type": "markdown",
      "source": [
        "# **Reading csv file (reader)**"
      ],
      "metadata": {
        "id": "i6hM4NXbtIEx"
      }
    },
    {
      "cell_type": "code",
      "source": [
        "with open('/content/batsman_season_record.csv', 'r') as csv_file:\n",
        "    csv_reader = csv.reader(csv_file, delimiter=',')\n",
        "    print(csv_reader)\n",
        "\n",
        "    for row in csv_reader:\n",
        "        print(row)"
      ],
      "metadata": {
        "colab": {
          "base_uri": "https://localhost:8080/"
        },
        "id": "gyCCKw3Fr9Lz",
        "outputId": "42794219-ae56-40ae-f152-7704e68551a2"
      },
      "execution_count": 8,
      "outputs": [
        {
          "output_type": "stream",
          "name": "stdout",
          "text": [
            "<_csv.reader object at 0x7c948e014e40>\n",
            "['batsman', '2015', '2016', '2017']\n",
            "['AB de Villiers', '513', '687', '216']\n",
            "['DA Warner', '562', '848', '641']\n",
            "['MS Dhoni', '372', '284', '290']\n",
            "['RG Sharma', '482', '489', '333']\n",
            "['V Kohli', '505', '973', '308']\n"
          ]
        }
      ]
    },
    {
      "cell_type": "code",
      "source": [
        "# next() function call, which is used to retrieve the next item from an iterator\n",
        "\n",
        "with open('/content/batsman_season_record.csv', 'r') as csv_file:\n",
        "    csv_reader = csv.reader(csv_file, delimiter=',')\n",
        "\n",
        "    #  skips the first row of the CSV file, which typically contains headers or column names\n",
        "    next(csv_reader)\n",
        "\n",
        "    for row in csv_reader:\n",
        "        print(row)"
      ],
      "metadata": {
        "colab": {
          "base_uri": "https://localhost:8080/"
        },
        "id": "4NscKlimt7Y2",
        "outputId": "fcddd774-f8ad-416d-8408-409447363ee2"
      },
      "execution_count": 12,
      "outputs": [
        {
          "output_type": "stream",
          "name": "stdout",
          "text": [
            "['AB de Villiers', '513', '687', '216']\n",
            "['DA Warner', '562', '848', '641']\n",
            "['MS Dhoni', '372', '284', '290']\n",
            "['RG Sharma', '482', '489', '333']\n",
            "['V Kohli', '505', '973', '308']\n"
          ]
        }
      ]
    },
    {
      "cell_type": "markdown",
      "source": [
        "# **Writing on a CSV file (writer, writerow, writerows)**"
      ],
      "metadata": {
        "id": "3JNPWZHYvTVQ"
      }
    },
    {
      "cell_type": "code",
      "source": [
        "import csv\n",
        "\n",
        "# field names\n",
        "fields = ['Name', 'Branch', 'Year', 'CGPA']\n",
        "\n",
        "# data rows of csv file\n",
        "data = [['Nikhil', 'COE', '2', '9'],\n",
        "        ['Sanchit', 'COE', '2', '8'],\n",
        "        ['Aditya', 'IT', '2', '6'],\n",
        "        ['Sagar', 'SE', '1', '7'],\n",
        "        ['Prateek', 'MCE', '3', '8'],\n",
        "        ['Sahil', 'EP', '2', '5']]\n",
        "\n",
        "with open('output.csv', 'w', newline='') as csv_file:\n",
        "    # create a csv.writer object (csv_writer) and\n",
        "    # use its writerows() method to write the entire list of rows (data) to the CSV file\n",
        "\n",
        "    # creating a csv writer object\n",
        "    csvwriter = csv.writer(csv_file)\n",
        "\n",
        "    # writing the fields\n",
        "    csvwriter.writerow(fields)\n",
        "    # writing the data rows\n",
        "    csvwriter.writerows(data)\n",
        "\n",
        "    # for row in data:  # second method\n",
        "    #     csvwriter.writerow(row)"
      ],
      "metadata": {
        "id": "VN85gd6uxuiB"
      },
      "execution_count": 23,
      "outputs": []
    },
    {
      "cell_type": "code",
      "source": [
        "with open('/content/batsman_season_record.csv', 'r') as csv_file:\n",
        "    csv_reader = csv.reader(csv_file, delimiter=',')\n",
        "\n",
        "    with open('new_batsman_record.csv', 'w') as new_file:\n",
        "        csv_writer = csv.writer(new_file, delimiter='-')\n",
        "\n",
        "        for row in csv_reader:\n",
        "            csv_writer.writerow(row)"
      ],
      "metadata": {
        "id": "zUOVdvQhvwuT"
      },
      "execution_count": 16,
      "outputs": []
    },
    {
      "cell_type": "code",
      "source": [
        "with open('/content/batsman_season_record.csv', 'r') as csv_file:\n",
        "    csv_reader = csv.reader(csv_file, delimiter=',')\n",
        "\n",
        "    with open('new_batsman_record.csv', 'w') as new_file:\n",
        "        csv_writer = csv.writer(new_file, delimiter='\\t')   # tab as delimiter\n",
        "\n",
        "        for row in csv_reader:\n",
        "            print(row)\n",
        "            csv_writer.writerow(row)"
      ],
      "metadata": {
        "colab": {
          "base_uri": "https://localhost:8080/"
        },
        "id": "gmfRTr26xRxt",
        "outputId": "3133c851-ffb8-4eb9-a1f8-bb7c1e512a04"
      },
      "execution_count": 49,
      "outputs": [
        {
          "output_type": "stream",
          "name": "stdout",
          "text": [
            "['batsman', '2015', '2016', '2017']\n",
            "['AB de Villiers', '513', '687', '216']\n",
            "['DA Warner', '562', '848', '641']\n",
            "['MS Dhoni', '372', '284', '290']\n",
            "['RG Sharma', '482', '489', '333']\n",
            "['V Kohli', '505', '973', '308']\n"
          ]
        }
      ]
    },
    {
      "cell_type": "code",
      "source": [
        "with open('/content/new_batsman_record.csv', 'r') as new_file:\n",
        "    csv_reader = csv.reader(new_file)\n",
        "    for row in csv_reader:\n",
        "        print(row)"
      ],
      "metadata": {
        "colab": {
          "base_uri": "https://localhost:8080/"
        },
        "id": "Qkt-OZUY1Lbz",
        "outputId": "10755f86-5822-4f52-d1a3-74f4aa9f7c77"
      },
      "execution_count": 48,
      "outputs": [
        {
          "output_type": "stream",
          "name": "stdout",
          "text": [
            "['batsman\\t2015\\t2016\\t2017']\n",
            "['AB de Villiers\\t513\\t687\\t216']\n",
            "['DA Warner\\t562\\t848\\t641']\n",
            "['MS Dhoni\\t372\\t284\\t290']\n",
            "['RG Sharma\\t482\\t489\\t333']\n",
            "['V Kohli\\t505\\t973\\t308']\n"
          ]
        }
      ]
    },
    {
      "cell_type": "code",
      "source": [
        "with open('/content/new_batsman_record.csv', 'r') as new_file:\n",
        "    csv_reader = csv.reader(new_file, delimiter='\\t')\n",
        "    for row in csv_reader:\n",
        "        print(row)"
      ],
      "metadata": {
        "colab": {
          "base_uri": "https://localhost:8080/"
        },
        "id": "8k6JZl812Fl0",
        "outputId": "c300464b-da4f-41b8-b112-4da38ddb0678"
      },
      "execution_count": 47,
      "outputs": [
        {
          "output_type": "stream",
          "name": "stdout",
          "text": [
            "['batsman', '2015', '2016', '2017']\n",
            "['AB de Villiers', '513', '687', '216']\n",
            "['DA Warner', '562', '848', '641']\n",
            "['MS Dhoni', '372', '284', '290']\n",
            "['RG Sharma', '482', '489', '333']\n",
            "['V Kohli', '505', '973', '308']\n"
          ]
        }
      ]
    },
    {
      "cell_type": "markdown",
      "source": [
        "# **Reading and Writing using Dictionary method (DictReader, DictWriter)**"
      ],
      "metadata": {
        "id": "eIhVvNDqxP-l"
      }
    },
    {
      "cell_type": "markdown",
      "source": [
        "# **Reading using DictReader**\n",
        "\n",
        "csv.DictReader reads each row of the CSV file as a dictionary where the keys are the column headers, and the values are the corresponding values in each row."
      ],
      "metadata": {
        "id": "FaRV9aFn35Tb"
      }
    },
    {
      "cell_type": "code",
      "source": [
        "with open('/content/batsman_season_record.csv', 'r') as csv_file:\n",
        "    csv_reader = csv.DictReader(csv_file, delimiter=',')\n",
        "\n",
        "    for row in csv_reader:\n",
        "        print(row)"
      ],
      "metadata": {
        "colab": {
          "base_uri": "https://localhost:8080/"
        },
        "id": "u_ZNeS-83uCV",
        "outputId": "4c76cd7e-a57c-4941-d956-b71057e166d5"
      },
      "execution_count": 56,
      "outputs": [
        {
          "output_type": "stream",
          "name": "stdout",
          "text": [
            "{'batsman': 'AB de Villiers', '2015': '513', '2016': '687', '2017': '216'}\n",
            "{'batsman': 'DA Warner', '2015': '562', '2016': '848', '2017': '641'}\n",
            "{'batsman': 'MS Dhoni', '2015': '372', '2016': '284', '2017': '290'}\n",
            "{'batsman': 'RG Sharma', '2015': '482', '2016': '489', '2017': '333'}\n",
            "{'batsman': 'V Kohli', '2015': '505', '2016': '973', '2017': '308'}\n"
          ]
        }
      ]
    },
    {
      "cell_type": "code",
      "source": [
        "with open('/content/batsman_season_record.csv', 'r') as csv_file:\n",
        "    csv_reader = csv.DictReader(csv_file, delimiter=',')\n",
        "\n",
        "    for row in csv_reader:\n",
        "        print(row['batsman'])"
      ],
      "metadata": {
        "colab": {
          "base_uri": "https://localhost:8080/"
        },
        "id": "h_iZl1mb4yle",
        "outputId": "feb1a97c-5485-4c57-8b97-437d8b0c38f4"
      },
      "execution_count": 57,
      "outputs": [
        {
          "output_type": "stream",
          "name": "stdout",
          "text": [
            "AB de Villiers\n",
            "DA Warner\n",
            "MS Dhoni\n",
            "RG Sharma\n",
            "V Kohli\n"
          ]
        }
      ]
    },
    {
      "cell_type": "markdown",
      "source": [
        "# **Writing using DictWriter**"
      ],
      "metadata": {
        "id": "fknzH20Y44Jg"
      }
    },
    {
      "cell_type": "code",
      "source": [
        "# data rows as dictionary objects\n",
        "mydict = [\n",
        "    {'branch': 'COE', 'cgpa': '9.0',\n",
        "    'name': 'rohit', 'year': '2'},\n",
        "    {'branch': 'COE', 'cgpa': '9.1',\n",
        "    'name': 'corey', 'year': '2'},\n",
        "    {'branch': 'IT', 'cgpa': '9.3',\n",
        "    'name': 'nitish', 'year': '2'},\n",
        "    {'branch': 'SE', 'cgpa': '9.5',\n",
        "    'name': 'angela', 'year': '1'},\n",
        "    {'branch': 'MCE', 'cgpa': '7.8',\n",
        "    'name': 'sohel', 'year': '3'},\n",
        "    {'branch': 'EP', 'cgpa': '9.1',\n",
        "    'name': 'ramesh', 'year': '2'}\n",
        "]\n",
        "\n",
        "# field names\n",
        "fields = ['name', 'branch', 'year', 'cgpa']\n",
        "\n",
        "with open(\"university_records.csv\", 'w') as csvfile:\n",
        "\t# creating a csv dict writer object\n",
        "\tcsv_writer = csv.DictWriter(csvfile, fieldnames=fields)\n",
        "\n",
        "\t# writing headers (field names)\n",
        "\tcsv_writer.writeheader()\n",
        "\n",
        "\t# writing data rows\n",
        "\tcsv_writer.writerows(mydict)\n"
      ],
      "metadata": {
        "id": "TtBIUpay5GjI"
      },
      "execution_count": 59,
      "outputs": []
    },
    {
      "cell_type": "code",
      "source": [
        "with open('/content/university_records.csv', 'r') as csv_file:\n",
        "    csv_reader = csv.DictReader(csv_file)\n",
        "\n",
        "    for line in csv_reader:\n",
        "        print(line)"
      ],
      "metadata": {
        "colab": {
          "base_uri": "https://localhost:8080/"
        },
        "id": "1sQiBCV36Odw",
        "outputId": "4ccc36df-de81-440e-dbe5-f6ec0e26f5c2"
      },
      "execution_count": 60,
      "outputs": [
        {
          "output_type": "stream",
          "name": "stdout",
          "text": [
            "{'name': 'rohit', 'branch': 'COE', 'year': '2', 'cgpa': '9.0'}\n",
            "{'name': 'corey', 'branch': 'COE', 'year': '2', 'cgpa': '9.1'}\n",
            "{'name': 'nitish', 'branch': 'IT', 'year': '2', 'cgpa': '9.3'}\n",
            "{'name': 'angela', 'branch': 'SE', 'year': '1', 'cgpa': '9.5'}\n",
            "{'name': 'sohel', 'branch': 'MCE', 'year': '3', 'cgpa': '7.8'}\n",
            "{'name': 'ramesh', 'branch': 'EP', 'year': '2', 'cgpa': '9.1'}\n"
          ]
        }
      ]
    }
  ]
}