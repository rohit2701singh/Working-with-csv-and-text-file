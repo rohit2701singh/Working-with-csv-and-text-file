{
  "nbformat": 4,
  "nbformat_minor": 0,
  "metadata": {
    "colab": {
      "provenance": [],
      "authorship_tag": "ABX9TyNfndH3yWPZcBkbiIG2GvTP",
      "include_colab_link": true
    },
    "kernelspec": {
      "name": "python3",
      "display_name": "Python 3"
    },
    "language_info": {
      "name": "python"
    }
  },
  "cells": [
    {
      "cell_type": "markdown",
      "metadata": {
        "id": "view-in-github",
        "colab_type": "text"
      },
      "source": [
        "<a href=\"https://colab.research.google.com/github/rohit2701singh/Working-with-csv-and-text-file/blob/main/working_with_CSV_module.ipynb\" target=\"_parent\"><img src=\"https://colab.research.google.com/assets/colab-badge.svg\" alt=\"Open In Colab\"/></a>"
      ]
    },
    {
      "cell_type": "code",
      "execution_count": null,
      "metadata": {
        "id": "fTCZ2o61qLFn"
      },
      "outputs": [],
      "source": [
        "\"\"\"\n",
        "file data:\n",
        "\n",
        "batsman,2015,2016,2017\n",
        "AB de Villiers,513,687,216\n",
        "DA Warner,562,848,641\n",
        "MS Dhoni,372,284,290\n",
        "RG Sharma,482,489,333\n",
        "V Kohli,505,973,308\n",
        "\n",
        "\"\"\""
      ]
    },
    {
      "cell_type": "markdown",
      "source": [
        "# **File Handling**\n",
        "File handling in Python refers to the various operations you can perform on files, such as reading from and writing to files.<br> Python provides built-in functions and modules to work with files, making it easy to manipulate file contents.\n",
        "\n",
        "\n",
        "*modes:*\n",
        "1. **Read Mode('r'):** This is the default mode. It opens the file for reading. If the file does not exist or cannot be opened, an exception is raised.\n",
        "2.  **Write Mode ('w'):** opens the file for writing. If the file does not exist, it creates a new file. If the file exists, it truncates the file to zero length.\n",
        "3. **Append Mode ('a'):** This mode opens the file for appending. The file pointer is at the end of the file if the file exists. That is, the file is in the append mode. If the file does not exist, it creates a new file for writing.\n",
        "4. **Read and Write Mode ('r+'):** This mode opens the file for both reading and writing.\n",
        "5. **Create Mode ('x'):** This mode creates a new file. If the file already exists, the open() function will raise a FileExistsError.\n",
        "\n"
      ],
      "metadata": {
        "id": "alc1TWbuBzSQ"
      }
    },
    {
      "cell_type": "markdown",
      "source": [
        "# Create File"
      ],
      "metadata": {
        "id": "U8n6sIchPclz"
      }
    },
    {
      "cell_type": "code",
      "source": [
        "data = \"\"\"batsman,2015,2016,2017\n",
        "AB de Villiers,513,687,216\n",
        "DA Warner,562,848,641\n",
        "MS Dhoni,372,284,290\n",
        "RG Sharma,482,489,333\n",
        "V Kohli,505,973,308\"\"\"\n",
        "\n",
        "with open('newfile.txt', 'x') as file:\n",
        "    file.write(data)"
      ],
      "metadata": {
        "id": "1Vih5JZaPe6g"
      },
      "execution_count": 28,
      "outputs": []
    },
    {
      "cell_type": "markdown",
      "source": [
        "## Reading a File"
      ],
      "metadata": {
        "id": "8m-6l8kgCpzR"
      }
    },
    {
      "cell_type": "code",
      "source": [
        "# read(): Returns the entire file in form of a string\n",
        "\n",
        "with open('/content/newfile.txt', 'r') as file:\n",
        "    content  = file.read()\n",
        "    print(content)\n",
        "    print(type(content))"
      ],
      "metadata": {
        "id": "RJN18qAiCgxq",
        "colab": {
          "base_uri": "https://localhost:8080/"
        },
        "outputId": "df468b7d-7b02-4bb9-f4cd-4d386dde5fe3"
      },
      "execution_count": 37,
      "outputs": [
        {
          "output_type": "stream",
          "name": "stdout",
          "text": [
            "batsman,2015,2016,2017\n",
            "AB de Villiers,513,687,216\n",
            "DA Warner,562,848,641\n",
            "MS Dhoni,372,284,290\n",
            "RG Sharma,482,489,333\n",
            "V Kohli,505,973,308\n",
            "<class 'str'>\n"
          ]
        }
      ]
    },
    {
      "cell_type": "code",
      "source": [
        "# readline(): Reads a line of the file and returns in form of a string.\n",
        "\n",
        "with open('/content/newfile.txt', 'r') as file:\n",
        "    content  = file.readline()\n",
        "    print(content)\n",
        "    print(type(content))"
      ],
      "metadata": {
        "id": "4cIoIbSdChtx",
        "colab": {
          "base_uri": "https://localhost:8080/"
        },
        "outputId": "d59c7e02-a695-4c5c-f657-ac3521d624dd"
      },
      "execution_count": 38,
      "outputs": [
        {
          "output_type": "stream",
          "name": "stdout",
          "text": [
            "batsman,2015,2016,2017\n",
            "\n",
            "<class 'str'>\n"
          ]
        }
      ]
    },
    {
      "cell_type": "code",
      "source": [
        "# readlines(): Reads all the lines and return them as each line a string element in a list.\n",
        "\n",
        "with open('/content/newfile.txt', 'r') as file:\n",
        "    content  = file.readlines()\n",
        "    print(content)\n",
        "    print(type(content))"
      ],
      "metadata": {
        "id": "tg45k9LQCiHQ",
        "colab": {
          "base_uri": "https://localhost:8080/"
        },
        "outputId": "37b3f467-147c-43b8-d369-9a56f3c5384b"
      },
      "execution_count": 39,
      "outputs": [
        {
          "output_type": "stream",
          "name": "stdout",
          "text": [
            "['batsman,2015,2016,2017\\n', 'AB de Villiers,513,687,216\\n', 'DA Warner,562,848,641\\n', 'MS Dhoni,372,284,290\\n', 'RG Sharma,482,489,333\\n', 'V Kohli,505,973,308']\n",
            "<class 'list'>\n"
          ]
        }
      ]
    },
    {
      "cell_type": "markdown",
      "source": [
        "# Writing in a file"
      ],
      "metadata": {
        "id": "nD3cQRWlTVu8"
      }
    },
    {
      "cell_type": "code",
      "source": [
        "# file will be created if does not exist\n",
        "\n",
        "with open('file_using_write.txt', 'w') as file:\n",
        "    file.write(\"hello this is writing function\\nthis is second line\")\n",
        "\n",
        "with open('/content/file_using_write.txt', 'r') as data_file:\n",
        "    print(data_file.read())"
      ],
      "metadata": {
        "colab": {
          "base_uri": "https://localhost:8080/"
        },
        "id": "uLswZ7GYTh16",
        "outputId": "9f08dd17-ee4c-40f5-b8a3-32a96157bc36"
      },
      "execution_count": 50,
      "outputs": [
        {
          "output_type": "stream",
          "name": "stdout",
          "text": [
            "hello this is writing function\n",
            "this is second line\n"
          ]
        }
      ]
    },
    {
      "cell_type": "code",
      "source": [
        "# adding new item in a file\n",
        "\n",
        "with open('file_using_write.txt', 'a') as file:\n",
        "    file.write('\\nthis is third line')\n",
        "\n",
        "with open('/content/file_using_write.txt', 'r') as data_file:\n",
        "    print(data_file.read())"
      ],
      "metadata": {
        "colab": {
          "base_uri": "https://localhost:8080/"
        },
        "id": "WLLwv4xDUoBe",
        "outputId": "426bb8c5-23eb-4663-f847-7630ee93ed90"
      },
      "execution_count": 51,
      "outputs": [
        {
          "output_type": "stream",
          "name": "stdout",
          "text": [
            "hello this is writing function\n",
            "this is second line\n",
            "this is third line\n"
          ]
        }
      ]
    },
    {
      "cell_type": "code",
      "source": [
        "with open('/content/newfile.txt', 'a') as file:\n",
        "    file.write('\\nsachin,420,490,300')\n",
        "\n",
        "with open('/content/newfile.txt', 'r') as data_file:\n",
        "    print(data_file.read())"
      ],
      "metadata": {
        "colab": {
          "base_uri": "https://localhost:8080/"
        },
        "id": "TmFKTsU8Yt00",
        "outputId": "6b9736fb-c7c9-4ab9-aad1-35ae97190e5f"
      },
      "execution_count": 54,
      "outputs": [
        {
          "output_type": "stream",
          "name": "stdout",
          "text": [
            "batsman,2015,2016,2017\n",
            "AB de Villiers,513,687,216\n",
            "DA Warner,562,848,641\n",
            "MS Dhoni,372,284,290\n",
            "RG Sharma,482,489,333\n",
            "V Kohli,505,973,308\n",
            "sachin,420,490,300\n"
          ]
        }
      ]
    },
    {
      "cell_type": "markdown",
      "source": [
        "# **File Handling Using CSV module**  "
      ],
      "metadata": {
        "id": "oc2PXaYvCTj8"
      }
    },
    {
      "cell_type": "code",
      "source": [
        "import csv"
      ],
      "metadata": {
        "id": "swzcM_6YrwIZ"
      },
      "execution_count": null,
      "outputs": []
    },
    {
      "cell_type": "markdown",
      "source": [
        "# **Reading csv file (reader)**"
      ],
      "metadata": {
        "id": "i6hM4NXbtIEx"
      }
    },
    {
      "cell_type": "code",
      "source": [
        "# opening without csv module\n",
        "\n",
        "with open('/content/batsman_season_record.csv', 'r') as csv_file:\n",
        "    content  = csv_file.read()\n",
        "    print(content)\n",
        "    print(type(content))"
      ],
      "metadata": {
        "colab": {
          "base_uri": "https://localhost:8080/"
        },
        "id": "qqTmGrxTXrDK",
        "outputId": "7e5be2d6-ae03-4fdf-b29e-2234655443be"
      },
      "execution_count": 53,
      "outputs": [
        {
          "output_type": "stream",
          "name": "stdout",
          "text": [
            "batsman,2015,2016,2017\n",
            "AB de Villiers,513,687,216\n",
            "DA Warner,562,848,641\n",
            "MS Dhoni,372,284,290\n",
            "RG Sharma,482,489,333\n",
            "V Kohli,505,973,308\n",
            "\n",
            "<class 'str'>\n"
          ]
        }
      ]
    },
    {
      "cell_type": "code",
      "source": [
        "with open('/content/batsman_season_record.csv', 'r') as csv_file:\n",
        "    csv_reader = csv.reader(csv_file, delimiter=',')\n",
        "    print(csv_reader)\n",
        "\n",
        "    for row in csv_reader:\n",
        "        print(row)"
      ],
      "metadata": {
        "colab": {
          "base_uri": "https://localhost:8080/"
        },
        "id": "gyCCKw3Fr9Lz",
        "outputId": "ed90b1ae-0f76-4eb7-e64f-893a9893b42f"
      },
      "execution_count": null,
      "outputs": [
        {
          "output_type": "stream",
          "name": "stdout",
          "text": [
            "<_csv.reader object at 0x7a0721b3b990>\n",
            "['batsman', '2015', '2016', '2017']\n",
            "['AB de Villiers', '513', '687', '216']\n",
            "['DA Warner', '562', '848', '641']\n",
            "['MS Dhoni', '372', '284', '290']\n",
            "['RG Sharma', '482', '489', '333']\n",
            "['V Kohli', '505', '973', '308']\n"
          ]
        }
      ]
    },
    {
      "cell_type": "code",
      "source": [
        "# next() function call, which is used to retrieve the next item from an iterator\n",
        "\n",
        "with open('/content/batsman_season_record.csv', 'r') as csv_file:\n",
        "    csv_reader = csv.reader(csv_file, delimiter=',')\n",
        "\n",
        "    #  skips the first row of the CSV file, which typically contains headers or column names\n",
        "    next(csv_reader)\n",
        "    # next(csv_reader)    # skip second row\n",
        "\n",
        "\n",
        "    for row in csv_reader:\n",
        "        print(row)"
      ],
      "metadata": {
        "colab": {
          "base_uri": "https://localhost:8080/"
        },
        "id": "4NscKlimt7Y2",
        "outputId": "73fcee45-78ac-458f-8e4f-fcc6cf7ab592"
      },
      "execution_count": null,
      "outputs": [
        {
          "output_type": "stream",
          "name": "stdout",
          "text": [
            "['AB de Villiers', '513', '687', '216']\n",
            "['DA Warner', '562', '848', '641']\n",
            "['MS Dhoni', '372', '284', '290']\n",
            "['RG Sharma', '482', '489', '333']\n",
            "['V Kohli', '505', '973', '308']\n"
          ]
        }
      ]
    },
    {
      "cell_type": "markdown",
      "source": [
        "# **Writing on a CSV file (writer, writerow, writerows)**"
      ],
      "metadata": {
        "id": "3JNPWZHYvTVQ"
      }
    },
    {
      "cell_type": "code",
      "source": [
        "# field names\n",
        "fields = ['Name', 'Branch', 'Year', 'CGPA']\n",
        "\n",
        "# data rows of csv file\n",
        "data = [['Nikhil', 'COE', '2', '9'],\n",
        "        ['Sanchit', 'COE', '2', '8'],\n",
        "        ['Aditya', 'IT', '2', '6'],\n",
        "        ['Sagar', 'SE', '1', '7'],\n",
        "        ['Prateek', 'MCE', '3', '8'],\n",
        "        ['Sahil', 'EP', '2', '5']]\n",
        "\n",
        "with open('output.csv', 'w', newline='') as csv_file:\n",
        "    # create a csv.writer object (csv_writer) and\n",
        "    # use its writerows() method to write the entire list of rows (data) to the CSV file\n",
        "\n",
        "    # creating a csv writer object\n",
        "    csvwriter = csv.writer(csv_file)\n",
        "\n",
        "    # writing the fields\n",
        "    csvwriter.writerow(fields)\n",
        "    # writing the data rows\n",
        "    csvwriter.writerows(data)\n",
        "\n",
        "    # for row in data:  # second method\n",
        "    #     csvwriter.writerow(row)"
      ],
      "metadata": {
        "id": "VN85gd6uxuiB"
      },
      "execution_count": null,
      "outputs": []
    },
    {
      "cell_type": "code",
      "source": [
        "# using '-' (dash) as delimiter\n",
        "\n",
        "with open('/content/batsman_season_record.csv', 'r') as csv_file:\n",
        "    csv_reader = csv.reader(csv_file, delimiter=',')\n",
        "\n",
        "    with open('new_batsman_record_using_dash.csv', 'w') as new_file:\n",
        "        csv_writer = csv.writer(new_file, delimiter='-')\n",
        "\n",
        "        for row in csv_reader:\n",
        "            csv_writer.writerow(row)\n",
        "\n",
        "with open('/content/new_batsman_record_using_dash.csv', 'r') as new_file:\n",
        "    csv_reader = csv.reader(new_file)\n",
        "    for row in csv_reader:\n",
        "        print(row)"
      ],
      "metadata": {
        "id": "zUOVdvQhvwuT",
        "colab": {
          "base_uri": "https://localhost:8080/"
        },
        "outputId": "a642f868-43f4-4538-c655-78e580ebcfc2"
      },
      "execution_count": null,
      "outputs": [
        {
          "output_type": "stream",
          "name": "stdout",
          "text": [
            "['batsman-2015-2016-2017']\n",
            "['AB de Villiers-513-687-216']\n",
            "['DA Warner-562-848-641']\n",
            "['MS Dhoni-372-284-290']\n",
            "['RG Sharma-482-489-333']\n",
            "['V Kohli-505-973-308']\n"
          ]
        }
      ]
    },
    {
      "cell_type": "code",
      "source": [
        "# using '\\t'(tab) as delimiter\n",
        "\n",
        "with open('/content/batsman_season_record.csv', 'r') as csv_file:\n",
        "    csv_reader = csv.reader(csv_file, delimiter=',')\n",
        "\n",
        "    with open('new_batsman_record_using_tab.csv', 'w') as new_file:\n",
        "        csv_writer = csv.writer(new_file, delimiter='\\t')   # tab as delimiter\n",
        "\n",
        "        for row in csv_reader:\n",
        "            csv_writer.writerow(row)\n",
        "\n",
        "with open('/content/new_batsman_record_using_tab.csv', 'r') as new_file:\n",
        "    csv_reader = csv.reader(new_file)\n",
        "    for row in csv_reader:\n",
        "        print(row)"
      ],
      "metadata": {
        "colab": {
          "base_uri": "https://localhost:8080/"
        },
        "id": "gmfRTr26xRxt",
        "outputId": "72c96132-0058-49e5-a1d1-c4e75628ac25"
      },
      "execution_count": null,
      "outputs": [
        {
          "output_type": "stream",
          "name": "stdout",
          "text": [
            "['batsman\\t2015\\t2016\\t2017']\n",
            "['AB de Villiers\\t513\\t687\\t216']\n",
            "['DA Warner\\t562\\t848\\t641']\n",
            "['MS Dhoni\\t372\\t284\\t290']\n",
            "['RG Sharma\\t482\\t489\\t333']\n",
            "['V Kohli\\t505\\t973\\t308']\n"
          ]
        }
      ]
    },
    {
      "cell_type": "code",
      "source": [
        "# reading tab data file\n",
        "\n",
        "with open('/content/new_batsman_record_using_tab.csv', 'r') as new_file:\n",
        "    csv_reader = csv.reader(new_file, delimiter='\\t')\n",
        "    for row in csv_reader:\n",
        "        print(row)"
      ],
      "metadata": {
        "colab": {
          "base_uri": "https://localhost:8080/"
        },
        "id": "Qkt-OZUY1Lbz",
        "outputId": "9b4c0a75-edc1-4950-871e-b7e9edfa495d"
      },
      "execution_count": null,
      "outputs": [
        {
          "output_type": "stream",
          "name": "stdout",
          "text": [
            "['batsman', '2015', '2016', '2017']\n",
            "['AB de Villiers', '513', '687', '216']\n",
            "['DA Warner', '562', '848', '641']\n",
            "['MS Dhoni', '372', '284', '290']\n",
            "['RG Sharma', '482', '489', '333']\n",
            "['V Kohli', '505', '973', '308']\n"
          ]
        }
      ]
    },
    {
      "cell_type": "markdown",
      "source": [
        "# **Reading and Writing using Dictionary method (DictReader, DictWriter)**"
      ],
      "metadata": {
        "id": "eIhVvNDqxP-l"
      }
    },
    {
      "cell_type": "markdown",
      "source": [
        "# **Reading using DictReader**\n",
        "\n",
        "csv.DictReader reads each row of the CSV file as a dictionary where the keys are the column headers, and the values are the corresponding values in each row."
      ],
      "metadata": {
        "id": "FaRV9aFn35Tb"
      }
    },
    {
      "cell_type": "code",
      "source": [
        "with open('/content/batsman_season_record.csv', 'r') as csv_file:\n",
        "    csv_reader = csv.DictReader(csv_file, delimiter=',')\n",
        "\n",
        "    for row in csv_reader:\n",
        "        print(row)"
      ],
      "metadata": {
        "colab": {
          "base_uri": "https://localhost:8080/"
        },
        "id": "u_ZNeS-83uCV",
        "outputId": "4c76cd7e-a57c-4941-d956-b71057e166d5"
      },
      "execution_count": null,
      "outputs": [
        {
          "output_type": "stream",
          "name": "stdout",
          "text": [
            "{'batsman': 'AB de Villiers', '2015': '513', '2016': '687', '2017': '216'}\n",
            "{'batsman': 'DA Warner', '2015': '562', '2016': '848', '2017': '641'}\n",
            "{'batsman': 'MS Dhoni', '2015': '372', '2016': '284', '2017': '290'}\n",
            "{'batsman': 'RG Sharma', '2015': '482', '2016': '489', '2017': '333'}\n",
            "{'batsman': 'V Kohli', '2015': '505', '2016': '973', '2017': '308'}\n"
          ]
        }
      ]
    },
    {
      "cell_type": "code",
      "source": [
        "with open('/content/batsman_season_record.csv', 'r') as csv_file:\n",
        "    csv_reader = csv.DictReader(csv_file, delimiter=',')\n",
        "\n",
        "    for row in csv_reader:\n",
        "        print(row['batsman'])"
      ],
      "metadata": {
        "colab": {
          "base_uri": "https://localhost:8080/"
        },
        "id": "h_iZl1mb4yle",
        "outputId": "feb1a97c-5485-4c57-8b97-437d8b0c38f4"
      },
      "execution_count": null,
      "outputs": [
        {
          "output_type": "stream",
          "name": "stdout",
          "text": [
            "AB de Villiers\n",
            "DA Warner\n",
            "MS Dhoni\n",
            "RG Sharma\n",
            "V Kohli\n"
          ]
        }
      ]
    },
    {
      "cell_type": "markdown",
      "source": [
        "# **Writing using DictWriter**"
      ],
      "metadata": {
        "id": "fknzH20Y44Jg"
      }
    },
    {
      "cell_type": "code",
      "source": [
        "# data rows as dictionary objects\n",
        "mydict = [\n",
        "    {'branch': 'COE', 'cgpa': '9.0', 'name': 'rohit', 'year': '2'},\n",
        "    {'branch': 'COE', 'cgpa': '9.1', 'name': 'corey', 'year': '2'},\n",
        "    {'branch': 'IT', 'cgpa': '9.3', 'name': 'nitish', 'year': '2'},\n",
        "    {'branch': 'SE', 'cgpa': '9.5', 'name': 'angela', 'year': '1'},\n",
        "    {'branch': 'MCE', 'cgpa': '7.8', 'name': 'sohel', 'year': '3'},\n",
        "    {'branch': 'EP', 'cgpa': '9.1', 'name': 'ramesh', 'year': '2'}\n",
        "]\n",
        "\n",
        "# field names\n",
        "fields = ['name', 'branch', 'year', 'cgpa']\n",
        "\n",
        "with open(\"university_records.csv\", 'w') as csvfile:\n",
        "\t# creating a csv dict writer object\n",
        "\tcsv_writer = csv.DictWriter(csvfile, fieldnames=fields)\n",
        "\n",
        "\t# writing headers (field names)\n",
        "\tcsv_writer.writeheader()\n",
        "\n",
        "\t# writing data rows\n",
        "\tcsv_writer.writerows(mydict)\n"
      ],
      "metadata": {
        "id": "TtBIUpay5GjI"
      },
      "execution_count": null,
      "outputs": []
    },
    {
      "cell_type": "code",
      "source": [
        "with open('/content/university_records.csv', 'r') as csv_file:\n",
        "    csv_reader = csv.DictReader(csv_file)\n",
        "\n",
        "    for line in csv_reader:\n",
        "        print(line)"
      ],
      "metadata": {
        "colab": {
          "base_uri": "https://localhost:8080/"
        },
        "id": "1sQiBCV36Odw",
        "outputId": "4ccc36df-de81-440e-dbe5-f6ec0e26f5c2"
      },
      "execution_count": null,
      "outputs": [
        {
          "output_type": "stream",
          "name": "stdout",
          "text": [
            "{'name': 'rohit', 'branch': 'COE', 'year': '2', 'cgpa': '9.0'}\n",
            "{'name': 'corey', 'branch': 'COE', 'year': '2', 'cgpa': '9.1'}\n",
            "{'name': 'nitish', 'branch': 'IT', 'year': '2', 'cgpa': '9.3'}\n",
            "{'name': 'angela', 'branch': 'SE', 'year': '1', 'cgpa': '9.5'}\n",
            "{'name': 'sohel', 'branch': 'MCE', 'year': '3', 'cgpa': '7.8'}\n",
            "{'name': 'ramesh', 'branch': 'EP', 'year': '2', 'cgpa': '9.1'}\n"
          ]
        }
      ]
    }
  ]
}